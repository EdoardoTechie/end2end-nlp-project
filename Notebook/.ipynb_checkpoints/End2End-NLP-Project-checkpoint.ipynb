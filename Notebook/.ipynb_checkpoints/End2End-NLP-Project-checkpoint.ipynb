{
 "cells": [
  {
   "cell_type": "markdown",
   "id": "c533a398-ac6f-492a-b2b7-5cf54eb84ce9",
   "metadata": {},
   "source": [
    "# End 2 End NLP project \n",
    "* text classification based on Cooperative Patent Classification"
   ]
  },
  {
   "cell_type": "code",
   "execution_count": 27,
   "id": "6355ad1f-42e9-4aa4-b2a1-ae8c5fc2fd11",
   "metadata": {},
   "outputs": [],
   "source": [
    "# load EDA packages\n",
    "import pandas as pd \n",
    "import numpy as np\n",
    "import seaborn as sns"
   ]
  },
  {
   "cell_type": "code",
   "execution_count": 28,
   "id": "23a6264f-fefa-4d53-8312-f8eeadc2845b",
   "metadata": {},
   "outputs": [],
   "source": [
    "# Load ML Pkgs\n",
    "# Estimators\n",
    "from sklearn.linear_model import LogisticRegression\n",
    "from sklearn.naive_bayes import MultinomialNB"
   ]
  },
  {
   "cell_type": "code",
   "execution_count": 29,
   "id": "bbcdbeb3-7c3c-42e2-80fb-9b59f32ae6ee",
   "metadata": {},
   "outputs": [],
   "source": [
    "# Transformers\n",
    "from sklearn.feature_extraction.text import CountVectorizer\n",
    "from sklearn.model_selection import train_test_split\n",
    "from sklearn.metrics import accuracy_score,classification_report,confusion_matrix"
   ]
  },
  {
   "cell_type": "code",
   "execution_count": 30,
   "id": "7ab2e99d-b0d2-44dd-8ad6-210d5c42b7e6",
   "metadata": {},
   "outputs": [],
   "source": [
    "# Load Dataset\n",
    "df = pd.read_csv(\"data/patbase_export_274777127.csv\")"
   ]
  },
  {
   "cell_type": "code",
   "execution_count": 31,
   "id": "e00a4a04-0b67-4a99-95e9-ec0f97ed2690",
   "metadata": {},
   "outputs": [],
   "source": [
    "# df = df.sample(frac = 0.2) "
   ]
  },
  {
   "cell_type": "code",
   "execution_count": 32,
   "id": "5bda9c85-8602-4534-ab17-7a464d35ef1e",
   "metadata": {},
   "outputs": [],
   "source": [
    "# Select the important columns \n",
    "col = ['Cooperative Patent Class', '1st Main Claim'] #we only use those two columns \n",
    "df = df[col]\n",
    "df = df.dropna()"
   ]
  },
  {
   "cell_type": "code",
   "execution_count": 33,
   "id": "075f9449-fa6e-4c11-b231-95ea934587c8",
   "metadata": {},
   "outputs": [],
   "source": [
    "# Creating the CPC label\n",
    "df['cpc'] = df['Cooperative Patent Class'].str.extract(r'(^.{0,1})')"
   ]
  },
  {
   "cell_type": "code",
   "execution_count": 34,
   "id": "d3d17477-2fd4-4ae1-8ccb-6cb8c857a955",
   "metadata": {},
   "outputs": [
    {
     "name": "stderr",
     "output_type": "stream",
     "text": [
      "/var/folders/0z/xrq4pf6s14gfms8ygfyl8nt40000gn/T/ipykernel_70186/420355994.py:6: FutureWarning: The default value of regex will change from True to False in a future version.\n",
      "  df['main_claim'] = df['main_claim'].str.replace('\\d+', '')\n"
     ]
    }
   ],
   "source": [
    "# RegEx preprocessing \n",
    "df['main_claim'] = df['1st Main Claim'].str.replace('\\[EN\\]\\s1.\\s', '', regex = True) # string stripping EN\n",
    "\n",
    "df['main_claim'] = df['main_claim'].str.lower()\n",
    "\n",
    "df['main_claim'] = df['main_claim'].str.replace('\\d+', '')"
   ]
  },
  {
   "cell_type": "code",
   "execution_count": 35,
   "id": "ea438e65-8f27-41f0-8bf1-eea6e443aaf0",
   "metadata": {},
   "outputs": [],
   "source": [
    "# Create the variables \n",
    "y = df['cpc']\n",
    "x = df['main_claim']"
   ]
  },
  {
   "cell_type": "code",
   "execution_count": 36,
   "id": "8f41ce1e-444f-4676-b0fc-60275eff6026",
   "metadata": {},
   "outputs": [],
   "source": [
    "# Slipt the data \n",
    "x_train, x_test, y_train, y_test = train_test_split(x,y,test_size=0.33,random_state=53)"
   ]
  },
  {
   "cell_type": "code",
   "execution_count": 37,
   "id": "dcc43f28-2b3c-4654-88e6-6401289aa052",
   "metadata": {},
   "outputs": [],
   "source": [
    "# Build a ML pipeline \n",
    "from sklearn.pipeline import Pipeline \n",
    "from sklearn.naive_bayes import MultinomialNB"
   ]
  },
  {
   "cell_type": "code",
   "execution_count": 38,
   "id": "bb28fa87-53f8-46fd-a6de-a737aa3e9e99",
   "metadata": {},
   "outputs": [],
   "source": [
    "pipe_lr = Pipeline(steps=[('cv',CountVectorizer()),('mnb',MultinomialNB(alpha = 2.6))])"
   ]
  },
  {
   "cell_type": "code",
   "execution_count": 39,
   "id": "e9e82bed-2234-40af-8e30-29eaaff54a67",
   "metadata": {},
   "outputs": [
    {
     "data": {
      "text/plain": [
       "Pipeline(steps=[('cv', CountVectorizer()), ('mnb', MultinomialNB(alpha=2.6))])"
      ]
     },
     "execution_count": 39,
     "metadata": {},
     "output_type": "execute_result"
    }
   ],
   "source": [
    "# Train and Fit Data\n",
    "pipe_lr.fit(x_train,y_train)"
   ]
  },
  {
   "cell_type": "code",
   "execution_count": 40,
   "id": "271a299a-9655-42c7-b052-ee0d2280b180",
   "metadata": {},
   "outputs": [
    {
     "data": {
      "text/plain": [
       "0.6340009770395701"
      ]
     },
     "execution_count": 40,
     "metadata": {},
     "output_type": "execute_result"
    }
   ],
   "source": [
    "# Check Accuracy\n",
    "pipe_lr.score(x_test,y_test)"
   ]
  },
  {
   "cell_type": "code",
   "execution_count": 41,
   "id": "5e107c82-cbc8-461d-bb47-985eb50e1d2b",
   "metadata": {},
   "outputs": [
    {
     "data": {
      "text/plain": [
       "array(['A', 'B', 'C', 'D', 'E', 'F', 'G', 'H'], dtype='<U1')"
      ]
     },
     "execution_count": 41,
     "metadata": {},
     "output_type": "execute_result"
    }
   ],
   "source": [
    "# To Know the classes\n",
    "pipe_lr.classes_"
   ]
  },
  {
   "cell_type": "code",
   "execution_count": 42,
   "id": "9fa752ce-eeb3-4179-98f8-24d847e0dc67",
   "metadata": {},
   "outputs": [],
   "source": [
    "# Save Model & Pipeline\n",
    "import joblib\n",
    "pipeline_file = open(\"cpc_classifier_pipe_lr_21_feb_2022.pkl\",\"wb\")\n",
    "joblib.dump(pipe_lr,pipeline_file)\n",
    "pipeline_file.close()"
   ]
  },
  {
   "cell_type": "code",
   "execution_count": null,
   "id": "4d92c28d-c13c-460d-a3ea-24c864837bc8",
   "metadata": {},
   "outputs": [],
   "source": []
  }
 ],
 "metadata": {
  "kernelspec": {
   "display_name": "Python 3 (ipykernel)",
   "language": "python",
   "name": "python3"
  },
  "language_info": {
   "codemirror_mode": {
    "name": "ipython",
    "version": 3
   },
   "file_extension": ".py",
   "mimetype": "text/x-python",
   "name": "python",
   "nbconvert_exporter": "python",
   "pygments_lexer": "ipython3",
   "version": "3.9.7"
  }
 },
 "nbformat": 4,
 "nbformat_minor": 5
}
